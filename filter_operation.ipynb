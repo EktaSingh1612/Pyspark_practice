{
 "cells": [
  {
   "cell_type": "code",
   "execution_count": 1,
   "id": "a93e7776-e660-48a0-bde7-f443e19a4ca9",
   "metadata": {},
   "outputs": [
    {
     "name": "stdout",
     "output_type": "stream",
     "text": [
      "22/09/29 15:03:30 WARN Utils: Your hostname, EKTAs-MacBook-Air.local resolves to a loopback address: 127.0.0.1; using 192.168.100.4 instead (on interface en0)\n",
      "22/09/29 15:03:30 WARN Utils: Set SPARK_LOCAL_IP if you need to bind to another address\n"
     ]
    },
    {
     "name": "stderr",
     "output_type": "stream",
     "text": [
      "Setting default log level to \"WARN\".\n",
      "To adjust logging level use sc.setLogLevel(newLevel). For SparkR, use setLogLevel(newLevel).\n"
     ]
    },
    {
     "name": "stdout",
     "output_type": "stream",
     "text": [
      "22/09/29 15:03:30 WARN NativeCodeLoader: Unable to load native-hadoop library for your platform... using builtin-java classes where applicable\n",
      "22/09/29 15:03:30 WARN Utils: Service 'SparkUI' could not bind on port 4040. Attempting port 4041.\n",
      "22/09/29 15:03:30 WARN Utils: Service 'SparkUI' could not bind on port 4041. Attempting port 4042.\n",
      "22/09/29 15:03:30 WARN Utils: Service 'SparkUI' could not bind on port 4042. Attempting port 4043.\n"
     ]
    }
   ],
   "source": [
    "from pyspark.sql import SparkSession\n",
    "spark = SparkSession.builder.appName('Filter').getOrCreate()"
   ]
  },
  {
   "cell_type": "code",
   "execution_count": 2,
   "id": "ae238ae9-7e85-464c-b594-ca3150ea4786",
   "metadata": {},
   "outputs": [
    {
     "name": "stdout",
     "output_type": "stream",
     "text": [
      "+--------+---+----------+------+\n",
      "|    Name|Age|Experience|Salary|\n",
      "+--------+---+----------+------+\n",
      "|   Virat| 34|        10| 60000|\n",
      "|   Rohit| 35|        13| 54000|\n",
      "|  Pandya| 29|         5| 30000|\n",
      "|   Panth| 25|         2| 20000|\n",
      "|   Dhoni| 40|        19| 51000|\n",
      "|   Rahul| 31|         6| 23000|\n",
      "| Shubham| 23|         2| 17000|\n",
      "|Ravindra| 39|         8| 87000|\n",
      "+--------+---+----------+------+\n",
      "\n"
     ]
    }
   ],
   "source": [
    "df = spark.read.csv('Cricket.csv', header=True, inferSchema=True)\n",
    "df.show()"
   ]
  },
  {
   "cell_type": "markdown",
   "id": "66af7b78-cd21-4e29-a30e-f3b73f1a2b22",
   "metadata": {},
   "source": [
    "# Filter operations"
   ]
  },
  {
   "cell_type": "code",
   "execution_count": 4,
   "id": "338ff8f2-880d-4068-9c5a-3c6b4ba7d5ba",
   "metadata": {},
   "outputs": [
    {
     "name": "stdout",
     "output_type": "stream",
     "text": [
      "+-------+---+----------+------+\n",
      "|   Name|Age|Experience|Salary|\n",
      "+-------+---+----------+------+\n",
      "| Pandya| 29|         5| 30000|\n",
      "|  Panth| 25|         2| 20000|\n",
      "|  Rahul| 31|         6| 23000|\n",
      "|Shubham| 23|         2| 17000|\n",
      "+-------+---+----------+------+\n",
      "\n"
     ]
    }
   ],
   "source": [
    "# Find out salary of the people less than or equal to 30000\n",
    "\n",
    "df.filter('Salary<=30000').show()"
   ]
  },
  {
   "cell_type": "code",
   "execution_count": 5,
   "id": "f783efa1-ed26-4941-91bc-3df2af04e49b",
   "metadata": {},
   "outputs": [
    {
     "name": "stdout",
     "output_type": "stream",
     "text": [
      "+-------+---+\n",
      "|   Name|Age|\n",
      "+-------+---+\n",
      "| Pandya| 29|\n",
      "|  Panth| 25|\n",
      "|  Rahul| 31|\n",
      "|Shubham| 23|\n",
      "+-------+---+\n",
      "\n"
     ]
    }
   ],
   "source": [
    "# Only selected column I want to see\n",
    "\n",
    "df.filter('Salary<=30000').select(['Name','Age']).show()"
   ]
  },
  {
   "cell_type": "code",
   "execution_count": 7,
   "id": "3d3fb1c9-befa-4121-9c82-b8cd5b38251a",
   "metadata": {},
   "outputs": [
    {
     "name": "stdout",
     "output_type": "stream",
     "text": [
      "+------+---+----------+------+\n",
      "|  Name|Age|Experience|Salary|\n",
      "+------+---+----------+------+\n",
      "|Pandya| 29|         5| 30000|\n",
      "| Panth| 25|         2| 20000|\n",
      "| Rahul| 31|         6| 23000|\n",
      "+------+---+----------+------+\n",
      "\n"
     ]
    }
   ],
   "source": [
    "# For applying 2 different filter operations\n",
    "\n",
    "df.filter((df['Salary']<=30000) & (df['Salary']>=20000)).show()"
   ]
  },
  {
   "cell_type": "code",
   "execution_count": 9,
   "id": "5fc79c3e-2e4b-4e97-8082-ee84f5ac1863",
   "metadata": {},
   "outputs": [
    {
     "name": "stdout",
     "output_type": "stream",
     "text": [
      "+--------+---+----------+------+\n",
      "|    Name|Age|Experience|Salary|\n",
      "+--------+---+----------+------+\n",
      "|   Virat| 34|        10| 60000|\n",
      "|   Rohit| 35|        13| 54000|\n",
      "|  Pandya| 29|         5| 30000|\n",
      "|   Panth| 25|         2| 20000|\n",
      "|   Dhoni| 40|        19| 51000|\n",
      "|   Rahul| 31|         6| 23000|\n",
      "| Shubham| 23|         2| 17000|\n",
      "|Ravindra| 39|         8| 87000|\n",
      "+--------+---+----------+------+\n",
      "\n"
     ]
    }
   ],
   "source": [
    "df.filter((df['Salary']<=30000) | (df['Salary']>=20000)).show()"
   ]
  },
  {
   "cell_type": "code",
   "execution_count": 11,
   "id": "6a3c2c11-ff17-4d7d-b9c8-13ce73f159f8",
   "metadata": {},
   "outputs": [
    {
     "name": "stdout",
     "output_type": "stream",
     "text": [
      "+--------+---+----------+------+\n",
      "|    Name|Age|Experience|Salary|\n",
      "+--------+---+----------+------+\n",
      "|   Virat| 34|        10| 60000|\n",
      "|   Rohit| 35|        13| 54000|\n",
      "|   Dhoni| 40|        19| 51000|\n",
      "|Ravindra| 39|         8| 87000|\n",
      "+--------+---+----------+------+\n",
      "\n",
      "22/09/29 16:47:37 WARN HeartbeatReceiver: Removing executor driver with no recent heartbeats: 1034916 ms exceeds timeout 120000 ms\n",
      "22/09/29 16:47:37 WARN SparkContext: Killing executors is not supported by current scheduler.\n"
     ]
    }
   ],
   "source": [
    "# inverse filter operation\n",
    "df.filter(~(df['Salary']<=30000)).show()"
   ]
  },
  {
   "cell_type": "code",
   "execution_count": null,
   "id": "2fc086f8-cc22-45cc-8753-516c64a141e6",
   "metadata": {},
   "outputs": [],
   "source": []
  }
 ],
 "metadata": {
  "kernelspec": {
   "display_name": "Python 3 (ipykernel)",
   "language": "python",
   "name": "python3"
  },
  "language_info": {
   "codemirror_mode": {
    "name": "ipython",
    "version": 3
   },
   "file_extension": ".py",
   "mimetype": "text/x-python",
   "name": "python",
   "nbconvert_exporter": "python",
   "pygments_lexer": "ipython3",
   "version": "3.8.8"
  }
 },
 "nbformat": 4,
 "nbformat_minor": 5
}
