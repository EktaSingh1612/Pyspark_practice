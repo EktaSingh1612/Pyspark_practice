{
 "cells": [
  {
   "cell_type": "code",
   "execution_count": 1,
   "id": "8ea9fc73-8268-4ebb-880f-73c131ca8228",
   "metadata": {},
   "outputs": [],
   "source": [
    "import pyspark"
   ]
  },
  {
   "cell_type": "code",
   "execution_count": 15,
   "id": "1b6a10dd-0800-467e-8a36-0b4fb7744216",
   "metadata": {},
   "outputs": [
    {
     "data": {
      "text/plain": [
       "pandas.core.frame.DataFrame"
      ]
     },
     "execution_count": 15,
     "metadata": {},
     "output_type": "execute_result"
    }
   ],
   "source": [
    "import pandas as pd\n",
    "\n",
    "type(pd.read_excel('Cricket.xlsx'))"
   ]
  },
  {
   "cell_type": "markdown",
   "id": "3d80bd44-ec81-41f0-896c-169953a642b7",
   "metadata": {},
   "source": [
    "## Starting a spark session"
   ]
  },
  {
   "cell_type": "code",
   "execution_count": 3,
   "id": "792e5a42-9494-4c58-af95-be532ab109d0",
   "metadata": {},
   "outputs": [],
   "source": [
    "from pyspark.sql import SparkSession"
   ]
  },
  {
   "cell_type": "code",
   "execution_count": 4,
   "id": "966946ec-9001-4caf-a00c-e72cf5a0daab",
   "metadata": {},
   "outputs": [
    {
     "name": "stdout",
     "output_type": "stream",
     "text": [
      "22/09/29 10:39:28 WARN Utils: Your hostname, EKTAs-MacBook-Air.local resolves to a loopback address: 127.0.0.1; using 192.168.100.4 instead (on interface en0)\n",
      "22/09/29 10:39:28 WARN Utils: Set SPARK_LOCAL_IP if you need to bind to another address\n"
     ]
    },
    {
     "name": "stderr",
     "output_type": "stream",
     "text": [
      "Setting default log level to \"WARN\".\n",
      "To adjust logging level use sc.setLogLevel(newLevel). For SparkR, use setLogLevel(newLevel).\n"
     ]
    },
    {
     "name": "stdout",
     "output_type": "stream",
     "text": [
      "22/09/29 10:39:28 WARN NativeCodeLoader: Unable to load native-hadoop library for your platform... using builtin-java classes where applicable\n"
     ]
    }
   ],
   "source": [
    "spark = SparkSession.builder.appName('Practice').getOrCreate()"
   ]
  },
  {
   "cell_type": "code",
   "execution_count": 5,
   "id": "6832be2a-17d2-4fba-a520-ac300326261e",
   "metadata": {},
   "outputs": [
    {
     "data": {
      "text/html": [
       "\n",
       "            <div>\n",
       "                <p><b>SparkSession - in-memory</b></p>\n",
       "                \n",
       "        <div>\n",
       "            <p><b>SparkContext</b></p>\n",
       "\n",
       "            <p><a href=\"http://192.168.100.4:4040\">Spark UI</a></p>\n",
       "\n",
       "            <dl>\n",
       "              <dt>Version</dt>\n",
       "                <dd><code>v3.3.0</code></dd>\n",
       "              <dt>Master</dt>\n",
       "                <dd><code>local[*]</code></dd>\n",
       "              <dt>AppName</dt>\n",
       "                <dd><code>Practice</code></dd>\n",
       "            </dl>\n",
       "        </div>\n",
       "        \n",
       "            </div>\n",
       "        "
      ],
      "text/plain": [
       "<pyspark.sql.session.SparkSession at 0x7fb9480d5220>"
      ]
     },
     "execution_count": 5,
     "metadata": {},
     "output_type": "execute_result"
    }
   ],
   "source": [
    "spark"
   ]
  },
  {
   "cell_type": "code",
   "execution_count": 8,
   "id": "f55d5327-d496-48c6-9b10-66012a461976",
   "metadata": {},
   "outputs": [],
   "source": [
    "# To read dataset using pyspark\n",
    "df_pyspark = spark.read.csv('Cricket.csv')"
   ]
  },
  {
   "cell_type": "code",
   "execution_count": 9,
   "id": "14e09c47-7206-459d-86f6-6f8a066413f9",
   "metadata": {},
   "outputs": [
    {
     "data": {
      "text/plain": [
       "DataFrame[_c0: string, _c1: string]"
      ]
     },
     "execution_count": 9,
     "metadata": {},
     "output_type": "execute_result"
    }
   ],
   "source": [
    "df_pyspark"
   ]
  },
  {
   "cell_type": "code",
   "execution_count": 10,
   "id": "b8c0abcb-53a3-42d0-a83e-e67a41bb0a73",
   "metadata": {},
   "outputs": [
    {
     "name": "stdout",
     "output_type": "stream",
     "text": [
      "+------+---+\n",
      "|   _c0|_c1|\n",
      "+------+---+\n",
      "|  Name|Age|\n",
      "| Virat| 34|\n",
      "| Rohit| 35|\n",
      "|Pandya| 29|\n",
      "| Panth| 25|\n",
      "| Dhoni| 40|\n",
      "| Rahul| 31|\n",
      "+------+---+\n",
      "\n"
     ]
    }
   ],
   "source": [
    "df_pyspark.show()"
   ]
  },
  {
   "cell_type": "markdown",
   "id": "a4bb371e-c358-4e95-85b4-e0767a427927",
   "metadata": {},
   "source": [
    "In order to get columns name as name and age instead of c0 and c1..."
   ]
  },
  {
   "cell_type": "code",
   "execution_count": 11,
   "id": "9be7a0c6-25a8-472d-86bb-9ca0bfc7ca2a",
   "metadata": {},
   "outputs": [
    {
     "name": "stdout",
     "output_type": "stream",
     "text": [
      "+------+---+\n",
      "|  Name|Age|\n",
      "+------+---+\n",
      "| Virat| 34|\n",
      "| Rohit| 35|\n",
      "|Pandya| 29|\n",
      "| Panth| 25|\n",
      "| Dhoni| 40|\n",
      "| Rahul| 31|\n",
      "+------+---+\n",
      "\n"
     ]
    }
   ],
   "source": [
    "spark.read.option('header','true').csv('Cricket.csv').show()"
   ]
  },
  {
   "cell_type": "code",
   "execution_count": 12,
   "id": "c6bc282c-c671-4d8f-bf2f-3ee3641b172f",
   "metadata": {},
   "outputs": [],
   "source": [
    "# to save the above result in the variable\n",
    "df_pyspark = spark.read.option('header','true').csv('Cricket.csv')"
   ]
  },
  {
   "cell_type": "code",
   "execution_count": 13,
   "id": "f77fc5bd-be25-4dc8-99e3-ba49b4ea045f",
   "metadata": {},
   "outputs": [
    {
     "data": {
      "text/plain": [
       "pyspark.sql.dataframe.DataFrame"
      ]
     },
     "execution_count": 13,
     "metadata": {},
     "output_type": "execute_result"
    }
   ],
   "source": [
    "type(df_pyspark)"
   ]
  },
  {
   "cell_type": "code",
   "execution_count": 17,
   "id": "6fb919a0-e4a1-412d-9199-2e0ee635bea2",
   "metadata": {},
   "outputs": [
    {
     "data": {
      "text/plain": [
       "[Row(Name='Virat', Age='34'),\n",
       " Row(Name='Rohit', Age='35'),\n",
       " Row(Name='Pandya', Age='29')]"
      ]
     },
     "execution_count": 17,
     "metadata": {},
     "output_type": "execute_result"
    }
   ],
   "source": [
    "df_pyspark.head(3)"
   ]
  },
  {
   "cell_type": "code",
   "execution_count": 18,
   "id": "7da06464-9c13-42d9-8788-714ebc3a0ed2",
   "metadata": {},
   "outputs": [
    {
     "name": "stdout",
     "output_type": "stream",
     "text": [
      "root\n",
      " |-- Name: string (nullable = true)\n",
      " |-- Age: string (nullable = true)\n",
      "\n"
     ]
    }
   ],
   "source": [
    "# similar to df.info() in pandas\n",
    "\n",
    "df_pyspark.printSchema()"
   ]
  },
  {
   "cell_type": "code",
   "execution_count": null,
   "id": "aec5ffc8-b6ad-429b-b619-d10f8869469b",
   "metadata": {},
   "outputs": [],
   "source": []
  }
 ],
 "metadata": {
  "kernelspec": {
   "display_name": "Python 3 (ipykernel)",
   "language": "python",
   "name": "python3"
  },
  "language_info": {
   "codemirror_mode": {
    "name": "ipython",
    "version": 3
   },
   "file_extension": ".py",
   "mimetype": "text/x-python",
   "name": "python",
   "nbconvert_exporter": "python",
   "pygments_lexer": "ipython3",
   "version": "3.8.8"
  }
 },
 "nbformat": 4,
 "nbformat_minor": 5
}
