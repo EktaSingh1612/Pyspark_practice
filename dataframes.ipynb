{
 "cells": [
  {
   "cell_type": "code",
   "execution_count": 1,
   "id": "b1266317-d9a1-4f9d-bf49-9e755a38736f",
   "metadata": {},
   "outputs": [],
   "source": [
    "# Build spark session\n",
    "\n",
    "from pyspark.sql import SparkSession"
   ]
  },
  {
   "cell_type": "code",
   "execution_count": 2,
   "id": "8192178b-c363-4411-a5a0-50fe65161f0f",
   "metadata": {},
   "outputs": [
    {
     "name": "stdout",
     "output_type": "stream",
     "text": [
      "22/09/29 10:57:24 WARN Utils: Your hostname, EKTAs-MacBook-Air.local resolves to a loopback address: 127.0.0.1; using 192.168.100.4 instead (on interface en0)\n",
      "22/09/29 10:57:24 WARN Utils: Set SPARK_LOCAL_IP if you need to bind to another address\n"
     ]
    },
    {
     "name": "stderr",
     "output_type": "stream",
     "text": [
      "Setting default log level to \"WARN\".\n",
      "To adjust logging level use sc.setLogLevel(newLevel). For SparkR, use setLogLevel(newLevel).\n"
     ]
    },
    {
     "name": "stdout",
     "output_type": "stream",
     "text": [
      "22/09/29 10:57:24 WARN NativeCodeLoader: Unable to load native-hadoop library for your platform... using builtin-java classes where applicable\n",
      "22/09/29 10:57:24 WARN Utils: Service 'SparkUI' could not bind on port 4040. Attempting port 4041.\n"
     ]
    }
   ],
   "source": [
    "spark = SparkSession.builder.appName('Dataframe').getOrCreate()"
   ]
  },
  {
   "cell_type": "code",
   "execution_count": 3,
   "id": "a575a687-3eee-4bf3-bc31-ea012c20377b",
   "metadata": {},
   "outputs": [
    {
     "data": {
      "text/html": [
       "\n",
       "            <div>\n",
       "                <p><b>SparkSession - in-memory</b></p>\n",
       "                \n",
       "        <div>\n",
       "            <p><b>SparkContext</b></p>\n",
       "\n",
       "            <p><a href=\"http://192.168.100.4:4041\">Spark UI</a></p>\n",
       "\n",
       "            <dl>\n",
       "              <dt>Version</dt>\n",
       "                <dd><code>v3.3.0</code></dd>\n",
       "              <dt>Master</dt>\n",
       "                <dd><code>local[*]</code></dd>\n",
       "              <dt>AppName</dt>\n",
       "                <dd><code>Dataframe</code></dd>\n",
       "            </dl>\n",
       "        </div>\n",
       "        \n",
       "            </div>\n",
       "        "
      ],
      "text/plain": [
       "<pyspark.sql.session.SparkSession at 0x7fcdea76cbe0>"
      ]
     },
     "execution_count": 3,
     "metadata": {},
     "output_type": "execute_result"
    }
   ],
   "source": [
    "spark"
   ]
  },
  {
   "cell_type": "markdown",
   "id": "af815af3-a4c1-47d8-af9b-069789718d6e",
   "metadata": {},
   "source": [
    "## read the dataframe"
   ]
  },
  {
   "cell_type": "code",
   "execution_count": 7,
   "id": "03514b4e-dc13-4c18-aba4-cd5081ae5cfd",
   "metadata": {},
   "outputs": [
    {
     "name": "stdout",
     "output_type": "stream",
     "text": [
      "+------+---+----------+\n",
      "|  Name|Age|Experience|\n",
      "+------+---+----------+\n",
      "| Virat| 34|        10|\n",
      "| Rohit| 35|        13|\n",
      "|Pandya| 29|         5|\n",
      "| Panth| 25|         2|\n",
      "| Dhoni| 40|        19|\n",
      "| Rahul| 31|         6|\n",
      "+------+---+----------+\n",
      "\n"
     ]
    }
   ],
   "source": [
    "df_pyspark=spark.read.option('header','true').csv('Cricket.csv')\n",
    "spark.read.option('header','true').csv('Cricket.csv').show()"
   ]
  },
  {
   "cell_type": "markdown",
   "id": "299c0e69-e517-4594-9a69-711cf305772e",
   "metadata": {},
   "source": [
    "## Check the datatypes of column or schema"
   ]
  },
  {
   "cell_type": "code",
   "execution_count": 8,
   "id": "59f1b882-f2c7-4499-af3c-ce2716878a48",
   "metadata": {},
   "outputs": [
    {
     "name": "stdout",
     "output_type": "stream",
     "text": [
      "root\n",
      " |-- Name: string (nullable = true)\n",
      " |-- Age: string (nullable = true)\n",
      " |-- Experience: string (nullable = true)\n",
      "\n"
     ]
    }
   ],
   "source": [
    "df_pyspark.printSchema()"
   ]
  },
  {
   "cell_type": "markdown",
   "id": "fbae6ee0-64f7-4b10-832b-001530c40b2a",
   "metadata": {},
   "source": [
    "Since here we can see even though age and experince are integers but it is taking as strings, since it is by default. So in order to change this"
   ]
  },
  {
   "cell_type": "code",
   "execution_count": 10,
   "id": "3289fb4a-3c65-42d5-a171-47cba7c74d70",
   "metadata": {},
   "outputs": [
    {
     "name": "stdout",
     "output_type": "stream",
     "text": [
      "root\n",
      " |-- Name: string (nullable = true)\n",
      " |-- Age: integer (nullable = true)\n",
      " |-- Experience: integer (nullable = true)\n",
      "\n"
     ]
    }
   ],
   "source": [
    "df_pyspark=spark.read.option('header','true').csv('Cricket.csv',inferSchema=True)\n",
    "df_pyspark.printSchema()"
   ]
  },
  {
   "cell_type": "markdown",
   "id": "67d2424c-372d-4d8a-9b61-3ee3a7cdb654",
   "metadata": {},
   "source": [
    "## Another way to read csv file in pyspark"
   ]
  },
  {
   "cell_type": "code",
   "execution_count": 11,
   "id": "e6d1f68f-a121-43f7-abce-8c246d98c574",
   "metadata": {},
   "outputs": [
    {
     "name": "stdout",
     "output_type": "stream",
     "text": [
      "+------+---+----------+\n",
      "|  Name|Age|Experience|\n",
      "+------+---+----------+\n",
      "| Virat| 34|        10|\n",
      "| Rohit| 35|        13|\n",
      "|Pandya| 29|         5|\n",
      "| Panth| 25|         2|\n",
      "| Dhoni| 40|        19|\n",
      "| Rahul| 31|         6|\n",
      "+------+---+----------+\n",
      "\n"
     ]
    }
   ],
   "source": [
    "df_pyspark = spark.read.csv('Cricket.csv', header=True, inferSchema=True)\n",
    "df_pyspark.show()"
   ]
  },
  {
   "cell_type": "markdown",
   "id": "9a5e16c9-c7f9-42c7-888c-279ff5c11983",
   "metadata": {},
   "source": [
    "## Selecting columns and indexing"
   ]
  },
  {
   "cell_type": "code",
   "execution_count": 13,
   "id": "9448b885-2659-4729-ba0b-a83553624137",
   "metadata": {},
   "outputs": [
    {
     "data": {
      "text/plain": [
       "['Name', 'Age', 'Experience']"
      ]
     },
     "execution_count": 13,
     "metadata": {},
     "output_type": "execute_result"
    }
   ],
   "source": [
    "df_pyspark.columns"
   ]
  },
  {
   "cell_type": "code",
   "execution_count": 14,
   "id": "c1361f18-5e23-4252-8f27-ec12ca71e719",
   "metadata": {},
   "outputs": [
    {
     "data": {
      "text/plain": [
       "[Row(Name='Virat', Age=34, Experience=10),\n",
       " Row(Name='Rohit', Age=35, Experience=13),\n",
       " Row(Name='Pandya', Age=29, Experience=5)]"
      ]
     },
     "execution_count": 14,
     "metadata": {},
     "output_type": "execute_result"
    }
   ],
   "source": [
    "df_pyspark.head(3)"
   ]
  },
  {
   "cell_type": "code",
   "execution_count": 16,
   "id": "30fb42fa-c5d3-42ad-87ed-f9d3a4137751",
   "metadata": {},
   "outputs": [
    {
     "name": "stdout",
     "output_type": "stream",
     "text": [
      "+------+\n",
      "|  Name|\n",
      "+------+\n",
      "| Virat|\n",
      "| Rohit|\n",
      "|Pandya|\n",
      "| Panth|\n",
      "| Dhoni|\n",
      "| Rahul|\n",
      "+------+\n",
      "\n"
     ]
    }
   ],
   "source": [
    "# If i only want to see only a particular column e.g, here Name column\n",
    "\n",
    "df_pyspark.select('Name').show()"
   ]
  },
  {
   "cell_type": "code",
   "execution_count": 17,
   "id": "a84f6ded-fd6a-47ba-a335-c21e10796f90",
   "metadata": {},
   "outputs": [
    {
     "name": "stdout",
     "output_type": "stream",
     "text": [
      "+------+----------+\n",
      "|  Name|Experience|\n",
      "+------+----------+\n",
      "| Virat|        10|\n",
      "| Rohit|        13|\n",
      "|Pandya|         5|\n",
      "| Panth|         2|\n",
      "| Dhoni|        19|\n",
      "| Rahul|         6|\n",
      "+------+----------+\n",
      "\n"
     ]
    }
   ],
   "source": [
    "# Similarly for any 2 columns\n",
    "\n",
    "df_pyspark.select(['Name','Experience']).show()"
   ]
  },
  {
   "cell_type": "code",
   "execution_count": 18,
   "id": "a65728d6-d68f-4360-9860-b932998acd6a",
   "metadata": {},
   "outputs": [
    {
     "data": {
      "text/plain": [
       "[('Name', 'string'), ('Age', 'int'), ('Experience', 'int')]"
      ]
     },
     "execution_count": 18,
     "metadata": {},
     "output_type": "execute_result"
    }
   ],
   "source": [
    "df_pyspark.dtypes"
   ]
  },
  {
   "cell_type": "markdown",
   "id": "575dbd1b-0d79-450f-8e6a-6d358804b367",
   "metadata": {},
   "source": [
    "## Checking describe function similar to pandas"
   ]
  },
  {
   "cell_type": "code",
   "execution_count": 21,
   "id": "4b06521a-04d0-4b0f-86f5-c9fc699f9750",
   "metadata": {},
   "outputs": [
    {
     "name": "stdout",
     "output_type": "stream",
     "text": [
      "+-------+-----+------------------+-----------------+\n",
      "|summary| Name|               Age|       Experience|\n",
      "+-------+-----+------------------+-----------------+\n",
      "|  count|    6|                 6|                6|\n",
      "|   mean| null|32.333333333333336|9.166666666666666|\n",
      "| stddev| null| 5.202563470700445|6.177917664283546|\n",
      "|    min|Dhoni|                25|                2|\n",
      "|    max|Virat|                40|               19|\n",
      "+-------+-----+------------------+-----------------+\n",
      "\n"
     ]
    }
   ],
   "source": [
    "df_pyspark.describe().show()"
   ]
  },
  {
   "cell_type": "markdown",
   "id": "604d759e-8b04-49ba-82e0-e940fc06cadb",
   "metadata": {},
   "source": [
    "## Adding columns"
   ]
  },
  {
   "cell_type": "code",
   "execution_count": 23,
   "id": "c7c09074-018f-485e-b562-b7356ccc02d6",
   "metadata": {},
   "outputs": [
    {
     "name": "stdout",
     "output_type": "stream",
     "text": [
      "+------+---+----------+------------------------+\n",
      "|  Name|Age|Experience|Experience after 2 years|\n",
      "+------+---+----------+------------------------+\n",
      "| Virat| 34|        10|                      12|\n",
      "| Rohit| 35|        13|                      15|\n",
      "|Pandya| 29|         5|                       7|\n",
      "| Panth| 25|         2|                       4|\n",
      "| Dhoni| 40|        19|                      21|\n",
      "| Rahul| 31|         6|                       8|\n",
      "+------+---+----------+------------------------+\n",
      "\n"
     ]
    }
   ],
   "source": [
    "df_pyspark.withColumn('Experience after 2 years', df_pyspark['Experience']+2).show()\n",
    "df_pyspark = df_pyspark.withColumn('Experience after 2 years', df_pyspark['Experience']+2)"
   ]
  },
  {
   "cell_type": "code",
   "execution_count": 24,
   "id": "86a0d8b3-3ac6-459a-b27b-7d9067e9472c",
   "metadata": {},
   "outputs": [
    {
     "name": "stdout",
     "output_type": "stream",
     "text": [
      "+------+---+----------+------------------------+\n",
      "|  Name|Age|Experience|Experience after 2 years|\n",
      "+------+---+----------+------------------------+\n",
      "| Virat| 34|        10|                      12|\n",
      "| Rohit| 35|        13|                      15|\n",
      "|Pandya| 29|         5|                       7|\n",
      "| Panth| 25|         2|                       4|\n",
      "| Dhoni| 40|        19|                      21|\n",
      "| Rahul| 31|         6|                       8|\n",
      "+------+---+----------+------------------------+\n",
      "\n"
     ]
    }
   ],
   "source": [
    "df_pyspark.show()"
   ]
  },
  {
   "cell_type": "markdown",
   "id": "e2f5aa04-9741-44c7-92ee-685a66c5b9b3",
   "metadata": {},
   "source": [
    "## Drop the columns"
   ]
  },
  {
   "cell_type": "code",
   "execution_count": 25,
   "id": "e8e26852-0c3c-4332-bfdc-5385eeeab17c",
   "metadata": {},
   "outputs": [
    {
     "name": "stdout",
     "output_type": "stream",
     "text": [
      "+------+---+----------+\n",
      "|  Name|Age|Experience|\n",
      "+------+---+----------+\n",
      "| Virat| 34|        10|\n",
      "| Rohit| 35|        13|\n",
      "|Pandya| 29|         5|\n",
      "| Panth| 25|         2|\n",
      "| Dhoni| 40|        19|\n",
      "| Rahul| 31|         6|\n",
      "+------+---+----------+\n",
      "\n"
     ]
    }
   ],
   "source": [
    "df_pyspark = df_pyspark.drop('Experience after 2 years')\n",
    "df_pyspark.drop('Experience after 2 years').show()"
   ]
  },
  {
   "cell_type": "markdown",
   "id": "0f909b12-e810-4aac-9d61-b9f9cfa2032d",
   "metadata": {},
   "source": [
    "## Renaming the columns"
   ]
  },
  {
   "cell_type": "code",
   "execution_count": 26,
   "id": "b17e3238-e18f-4b74-bc99-fe080b00d41e",
   "metadata": {},
   "outputs": [
    {
     "name": "stdout",
     "output_type": "stream",
     "text": [
      "+------------+---+----------+\n",
      "|Participants|Age|Experience|\n",
      "+------------+---+----------+\n",
      "|       Virat| 34|        10|\n",
      "|       Rohit| 35|        13|\n",
      "|      Pandya| 29|         5|\n",
      "|       Panth| 25|         2|\n",
      "|       Dhoni| 40|        19|\n",
      "|       Rahul| 31|         6|\n",
      "+------------+---+----------+\n",
      "\n"
     ]
    }
   ],
   "source": [
    "df_pyspark.withColumnRenamed('Name','Participants').show()"
   ]
  },
  {
   "cell_type": "markdown",
   "id": "cea71ff9-1885-4943-b9f7-1a1548eaa8ba",
   "metadata": {},
   "source": [
    "\n"
   ]
  }
 ],
 "metadata": {
  "kernelspec": {
   "display_name": "Python 3 (ipykernel)",
   "language": "python",
   "name": "python3"
  },
  "language_info": {
   "codemirror_mode": {
    "name": "ipython",
    "version": 3
   },
   "file_extension": ".py",
   "mimetype": "text/x-python",
   "name": "python",
   "nbconvert_exporter": "python",
   "pygments_lexer": "ipython3",
   "version": "3.8.8"
  }
 },
 "nbformat": 4,
 "nbformat_minor": 5
}
